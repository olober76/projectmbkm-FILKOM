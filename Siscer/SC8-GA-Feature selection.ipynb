{
 "cells": [
  {
   "cell_type": "markdown",
   "id": "b11c6ab0",
   "metadata": {},
   "source": [
    "### KONVERSI SISCER (Mahasiswa mampu mejelaskan tentang Logika Fuzzy, serta memahami macam-macam algoritma fuzzy dan contoh implementasinya.)"
   ]
  },
  {
   "cell_type": "markdown",
   "id": "41ce0384",
   "metadata": {
    "papermill": {
     "duration": 0.005693,
     "end_time": "2024-04-21T01:38:39.558681",
     "exception": false,
     "start_time": "2024-04-21T01:38:39.552988",
     "status": "completed"
    },
    "tags": []
   },
   "source": [
    "# Importing the required libraries"
   ]
  },
  {
   "cell_type": "code",
   "execution_count": 1,
   "id": "53f6a939",
   "metadata": {
    "execution": {
     "iopub.execute_input": "2024-04-21T01:38:39.571340Z",
     "iopub.status.busy": "2024-04-21T01:38:39.570932Z",
     "iopub.status.idle": "2024-04-21T01:38:43.084040Z",
     "shell.execute_reply": "2024-04-21T01:38:43.082595Z"
    },
    "papermill": {
     "duration": 3.52344,
     "end_time": "2024-04-21T01:38:43.087587",
     "exception": false,
     "start_time": "2024-04-21T01:38:39.564147",
     "status": "completed"
    },
    "tags": []
   },
   "outputs": [],
   "source": [
    "import numpy as np\n",
    "import pandas as pd\n",
    "import seaborn as sns\n",
    "import matplotlib.pyplot as plt\n",
    "from random import randint\n",
    "%matplotlib inline \n",
    "import warnings\n",
    "warnings.filterwarnings(\"ignore\")\n",
    "\n",
    "from sklearn.model_selection import train_test_split\n",
    "def split(df,label):\n",
    "    X_tr, X_te, Y_tr, Y_te = train_test_split(df, label, test_size=0.25, random_state=42)\n",
    "    return X_tr, X_te, Y_tr, Y_te\n",
    "\n",
    "from sklearn import svm\n",
    "from sklearn.linear_model import LogisticRegression\n",
    "from sklearn.ensemble import RandomForestClassifier, AdaBoostClassifier\n",
    "from sklearn.tree import DecisionTreeClassifier\n",
    "from sklearn.neighbors import KNeighborsClassifier\n",
    "from sklearn.ensemble import GradientBoostingClassifier\n",
    "from sklearn import metrics\n",
    "from sklearn.metrics import accuracy_score\n",
    "from sklearn.model_selection import KFold, cross_val_score\n",
    "\n",
    "classifiers = ['LinearSVM', 'RadialSVM', \n",
    "               'Logistic',  'RandomForest', \n",
    "               'AdaBoost',  'DecisionTree', \n",
    "               'KNeighbors','GradientBoosting']\n",
    "\n",
    "models = [svm.SVC(kernel='linear'),\n",
    "          svm.SVC(kernel='rbf'),\n",
    "          LogisticRegression(max_iter = 1000),\n",
    "          RandomForestClassifier(n_estimators=200, random_state=0),\n",
    "          AdaBoostClassifier(random_state = 0),\n",
    "          DecisionTreeClassifier(random_state=0),\n",
    "          KNeighborsClassifier(),\n",
    "          GradientBoostingClassifier(random_state=0)]\n",
    "\n",
    "\n",
    "def acc_score(df,label):\n",
    "    Score = pd.DataFrame({\"Classifier\":classifiers})\n",
    "    j = 0\n",
    "    acc = []\n",
    "    X_train,X_test,Y_train,Y_test = split(df,label)\n",
    "    for i in models:\n",
    "        model = i\n",
    "        model.fit(X_train,Y_train)\n",
    "        predictions = model.predict(X_test)\n",
    "        acc.append(accuracy_score(Y_test,predictions))\n",
    "        j = j+1     \n",
    "    Score[\"Accuracy\"] = acc\n",
    "    Score.sort_values(by=\"Accuracy\", ascending=False,inplace = True)\n",
    "    Score.reset_index(drop=True, inplace=True)\n",
    "    return Score\n",
    "\n",
    "def plot(score,x,y,c = \"b\"):\n",
    "    gen = [1,2,3,4,5]\n",
    "    plt.figure(figsize=(6,4))\n",
    "    ax = sns.pointplot(x=gen, y=score,color = c )\n",
    "    ax.set(xlabel=\"Generation\", ylabel=\"Accuracy\")\n",
    "    ax.set(ylim=(x,y))"
   ]
  },
  {
   "cell_type": "markdown",
   "id": "585d75de",
   "metadata": {
    "papermill": {
     "duration": 0.004775,
     "end_time": "2024-04-21T01:38:43.097567",
     "exception": false,
     "start_time": "2024-04-21T01:38:43.092792",
     "status": "completed"
    },
    "tags": []
   },
   "source": [
    "# Function Description for Genetic Algorithm\n",
    "1. initilization_of_population():\n",
    "Untuk menginisialisasi populasi secara acak.\n",
    "\n",
    "2. fitness_score():\n",
    "Mengembalikan orang tua terbaik beserta skornya.\n",
    "\n",
    "3. selection():\n",
    "Seleksi dari orang tua terbaik.\n",
    "\n",
    "4. crossover():\n",
    "Mengambil setengah dari orang tua pertama dan setengah dari orang tua kedua.\n",
    "\n",
    "5. mutation():\n",
    "Secara acak membalik bit yang dipilih dari anak hasil persilangan.\n",
    "\n",
    "6. generations():\n",
    "Menjalankan semua fungsi di atas untuk jumlah generasi yang ditentukan."
   ]
  },
  {
   "cell_type": "code",
   "execution_count": 2,
   "id": "bc4cddab",
   "metadata": {
    "execution": {
     "iopub.execute_input": "2024-04-21T01:38:43.111069Z",
     "iopub.status.busy": "2024-04-21T01:38:43.110076Z",
     "iopub.status.idle": "2024-04-21T01:38:43.128468Z",
     "shell.execute_reply": "2024-04-21T01:38:43.127278Z"
    },
    "papermill": {
     "duration": 0.02894,
     "end_time": "2024-04-21T01:38:43.131636",
     "exception": false,
     "start_time": "2024-04-21T01:38:43.102696",
     "status": "completed"
    },
    "tags": []
   },
   "outputs": [],
   "source": [
    "def initilization_of_population(size,n_feat):\n",
    "    population = []                              \n",
    "    for i in range(size):\n",
    "        chromosome = np.ones(n_feat,dtype=bool)     \n",
    "        chromosome[:int(0.3*n_feat)]=False             \n",
    "        np.random.shuffle(chromosome)\n",
    "        population.append(chromosome)\n",
    "    return population\n",
    "\n",
    "\n",
    "def fitness_score(population):\n",
    "    scores = []\n",
    "    for chromosome in population:\n",
    "        logmodel.fit(X_train.iloc[:,chromosome],Y_train)         \n",
    "        predictions = logmodel.predict(X_test.iloc[:,chromosome])\n",
    "        scores.append(accuracy_score(Y_test,predictions))\n",
    "    scores, population = np.array(scores), np.array(population) \n",
    "    inds = np.argsort(scores)                                    \n",
    "    return list(scores[inds][::-1]), list(population[inds,:][::-1]) \n",
    "\n",
    "\n",
    "def selection(pop_after_fit,n_parents):\n",
    "    population_nextgen = []\n",
    "    for i in range(n_parents):\n",
    "        population_nextgen.append(pop_after_fit[i])\n",
    "    return population_nextgen\n",
    "\n",
    "\n",
    "def crossover(pop_after_sel):\n",
    "    pop_nextgen = pop_after_sel\n",
    "    for i in range(0,len(pop_after_sel),2):\n",
    "        new_par = []\n",
    "        child_1 , child_2 = pop_nextgen[i] , pop_nextgen[i+1]\n",
    "        new_par = np.concatenate((child_1[:len(child_1)//2],child_2[len(child_1)//2:]))\n",
    "        pop_nextgen.append(new_par)\n",
    "    return pop_nextgen\n",
    "\n",
    "\n",
    "def mutation(pop_after_cross,mutation_rate,n_feat):   \n",
    "    mutation_range = int(mutation_rate*n_feat)\n",
    "    pop_next_gen = []\n",
    "    for n in range(0,len(pop_after_cross)):\n",
    "        chromo = pop_after_cross[n]\n",
    "        rand_posi = [] \n",
    "        for i in range(0,mutation_range):\n",
    "            pos = randint(0,n_feat-1)\n",
    "            rand_posi.append(pos)\n",
    "        for j in rand_posi:\n",
    "            chromo[j] = not chromo[j]  \n",
    "        pop_next_gen.append(chromo)\n",
    "    return pop_next_gen\n",
    "\n",
    "def generations(df,label,size,n_feat,n_parents,mutation_rate,n_gen,X_train,\n",
    "                                   X_test, Y_train, Y_test):\n",
    "    best_chromo= []\n",
    "    best_score= []\n",
    "    population_nextgen=initilization_of_population(size,n_feat)\n",
    "    for i in range(n_gen):\n",
    "        scores, pop_after_fit = fitness_score(population_nextgen)\n",
    "        print('Best score in generation',i+1,':',scores[:1])  #2\n",
    "        pop_after_sel = selection(pop_after_fit,n_parents)\n",
    "        pop_after_cross = crossover(pop_after_sel)\n",
    "        population_nextgen = mutation(pop_after_cross,mutation_rate,n_feat)\n",
    "        best_chromo.append(pop_after_fit[0])\n",
    "        best_score.append(scores[0])\n",
    "    return best_chromo,best_score"
   ]
  },
  {
   "cell_type": "markdown",
   "id": "4dad08f1",
   "metadata": {
    "papermill": {
     "duration": 0.004818,
     "end_time": "2024-04-21T01:38:43.141579",
     "exception": false,
     "start_time": "2024-04-21T01:38:43.136761",
     "status": "completed"
    },
    "tags": []
   },
   "source": [
    "# Implementation of Genetic Algorithm for Feature Selection\n",
    "Pertama, kita menjalankan fungsi untuk menginisialisasi populasi secara acak.\n",
    "\n",
    "Populasi yang diacak kemudian dijalankan melalui fungsi kebugaran, yang mengembalikan orang tua terbaik (dengan akurasi tertinggi).\n",
    "\n",
    "Seleksi dari orang tua terbaik ini akan terjadi tergantung pada parameter n-parent.\n",
    "\n",
    "Setelah melakukan hal yang sama, ini akan dijalankan melalui fungsi persilangan dan mutasi secara berturut-turut.\n",
    "\n",
    "Persilangan dibuat dengan menggabungkan gen dari dua orang tua paling bugar dengan memilih bagian dari orang tua pertama dan bagian dari orang tua kedua secara acak.\n",
    "\n",
    "Mutasi dicapai dengan membalikkan bit yang dipilih secara acak untuk anak hasil persilangan.\n",
    "\n",
    "Generasi baru diciptakan dengan memilih orang tua paling bugar dari generasi sebelumnya dan menerapkan persilangan dan mutasi.\n",
    "\n",
    "Proses ini diulang untuk n jumlah generasi."
   ]
  },
  {
   "cell_type": "markdown",
   "id": "ed3fb74a",
   "metadata": {
    "papermill": {
     "duration": 0.004806,
     "end_time": "2024-04-21T01:38:43.151875",
     "exception": false,
     "start_time": "2024-04-21T01:38:43.147069",
     "status": "completed"
    },
    "tags": []
   },
   "source": [
    "# PCOS Dataset"
   ]
  },
  {
   "cell_type": "markdown",
   "id": "a8b4e45d",
   "metadata": {
    "papermill": {
     "duration": 0.00481,
     "end_time": "2024-04-21T01:38:43.161848",
     "exception": false,
     "start_time": "2024-04-21T01:38:43.157038",
     "status": "completed"
    },
    "tags": []
   },
   "source": [
    "# Introduction\n",
    "**Polycystic ovary syndrome is a disorder involving infrequent, irregular or prolonged menstrual periods, and often excess male hormone (androgen) levels. The ovaries develop numerous small collections of fluid — called follicles — and may fail to regularly release eggs\n",
    "dataset contains all physical and clinical parameters to determine PCOS and infertility related issues .**"
   ]
  },
  {
   "cell_type": "markdown",
   "id": "3cb860f4",
   "metadata": {
    "papermill": {
     "duration": 0.004571,
     "end_time": "2024-04-21T01:38:43.171398",
     "exception": false,
     "start_time": "2024-04-21T01:38:43.166827",
     "status": "completed"
    },
    "tags": []
   },
   "source": [
    "# Loading the Dataset:"
   ]
  },
  {
   "cell_type": "code",
   "execution_count": 5,
   "id": "b3f5050d",
   "metadata": {
    "execution": {
     "iopub.execute_input": "2024-04-21T01:38:43.183850Z",
     "iopub.status.busy": "2024-04-21T01:38:43.183412Z",
     "iopub.status.idle": "2024-04-21T01:38:43.239424Z",
     "shell.execute_reply": "2024-04-21T01:38:43.238257Z"
    },
    "papermill": {
     "duration": 0.065798,
     "end_time": "2024-04-21T01:38:43.242102",
     "exception": false,
     "start_time": "2024-04-21T01:38:43.176304",
     "status": "completed"
    },
    "tags": []
   },
   "outputs": [
    {
     "name": "stdout",
     "output_type": "stream",
     "text": [
      "PCOS dataset:\n",
      " 541 Records\n",
      " 39 Features\n"
     ]
    }
   ],
   "source": [
    "data_pcos = pd.read_csv(\"./dataset/PCOS_data.csv\")\n",
    "label_pcos = data_pcos[\"PCOS (Y/N)\"]\n",
    "data_pcos.drop([\"Sl. No\",\"Patient File No.\",\"PCOS (Y/N)\",\"Unnamed: 44\",\"II    beta-HCG(mIU/mL)\",\"AMH(ng/mL)\"],axis = 1,inplace = True)\n",
    "data_pcos[\"Marraige Status (Yrs)\"].fillna(data_pcos['Marraige Status (Yrs)'].describe().loc[['50%']][0], inplace = True) \n",
    "data_pcos[\"Fast food (Y/N)\"].fillna(1, inplace = True) \n",
    "\n",
    "print(\"PCOS dataset:\\n\",data_pcos.shape[0],\"Records\\n\",data_pcos.shape[1],\"Features\")"
   ]
  },
  {
   "cell_type": "code",
   "execution_count": 6,
   "id": "68f6b38b",
   "metadata": {
    "execution": {
     "iopub.execute_input": "2024-04-21T01:38:43.254887Z",
     "iopub.status.busy": "2024-04-21T01:38:43.253863Z",
     "iopub.status.idle": "2024-04-21T01:38:43.287460Z",
     "shell.execute_reply": "2024-04-21T01:38:43.286166Z"
    },
    "papermill": {
     "duration": 0.043492,
     "end_time": "2024-04-21T01:38:43.291100",
     "exception": false,
     "start_time": "2024-04-21T01:38:43.247608",
     "status": "completed"
    },
    "tags": []
   },
   "outputs": [
    {
     "data": {
      "text/html": [
       "<div>\n",
       "<style scoped>\n",
       "    .dataframe tbody tr th:only-of-type {\n",
       "        vertical-align: middle;\n",
       "    }\n",
       "\n",
       "    .dataframe tbody tr th {\n",
       "        vertical-align: top;\n",
       "    }\n",
       "\n",
       "    .dataframe thead th {\n",
       "        text-align: right;\n",
       "    }\n",
       "</style>\n",
       "<table border=\"1\" class=\"dataframe\">\n",
       "  <thead>\n",
       "    <tr style=\"text-align: right;\">\n",
       "      <th></th>\n",
       "      <th>Age (yrs)</th>\n",
       "      <th>Weight (Kg)</th>\n",
       "      <th>Height(Cm)</th>\n",
       "      <th>BMI</th>\n",
       "      <th>Blood Group</th>\n",
       "      <th>Pulse rate(bpm)</th>\n",
       "      <th>RR (breaths/min)</th>\n",
       "      <th>Hb(g/dl)</th>\n",
       "      <th>Cycle(R/I)</th>\n",
       "      <th>Cycle length(days)</th>\n",
       "      <th>...</th>\n",
       "      <th>Pimples(Y/N)</th>\n",
       "      <th>Fast food (Y/N)</th>\n",
       "      <th>Reg.Exercise(Y/N)</th>\n",
       "      <th>BP _Systolic (mmHg)</th>\n",
       "      <th>BP _Diastolic (mmHg)</th>\n",
       "      <th>Follicle No. (L)</th>\n",
       "      <th>Follicle No. (R)</th>\n",
       "      <th>Avg. F size (L) (mm)</th>\n",
       "      <th>Avg. F size (R) (mm)</th>\n",
       "      <th>Endometrium (mm)</th>\n",
       "    </tr>\n",
       "  </thead>\n",
       "  <tbody>\n",
       "    <tr>\n",
       "      <th>0</th>\n",
       "      <td>28</td>\n",
       "      <td>44.6</td>\n",
       "      <td>152.0</td>\n",
       "      <td>19.3</td>\n",
       "      <td>15</td>\n",
       "      <td>78</td>\n",
       "      <td>22</td>\n",
       "      <td>10.48</td>\n",
       "      <td>2</td>\n",
       "      <td>5</td>\n",
       "      <td>...</td>\n",
       "      <td>0</td>\n",
       "      <td>1.0</td>\n",
       "      <td>0</td>\n",
       "      <td>110</td>\n",
       "      <td>80</td>\n",
       "      <td>3</td>\n",
       "      <td>3</td>\n",
       "      <td>18.0</td>\n",
       "      <td>18.0</td>\n",
       "      <td>8.5</td>\n",
       "    </tr>\n",
       "    <tr>\n",
       "      <th>1</th>\n",
       "      <td>36</td>\n",
       "      <td>65.0</td>\n",
       "      <td>161.5</td>\n",
       "      <td>24.9</td>\n",
       "      <td>15</td>\n",
       "      <td>74</td>\n",
       "      <td>20</td>\n",
       "      <td>11.70</td>\n",
       "      <td>2</td>\n",
       "      <td>5</td>\n",
       "      <td>...</td>\n",
       "      <td>0</td>\n",
       "      <td>0.0</td>\n",
       "      <td>0</td>\n",
       "      <td>120</td>\n",
       "      <td>70</td>\n",
       "      <td>3</td>\n",
       "      <td>5</td>\n",
       "      <td>15.0</td>\n",
       "      <td>14.0</td>\n",
       "      <td>3.7</td>\n",
       "    </tr>\n",
       "    <tr>\n",
       "      <th>2</th>\n",
       "      <td>33</td>\n",
       "      <td>68.8</td>\n",
       "      <td>165.0</td>\n",
       "      <td>25.3</td>\n",
       "      <td>11</td>\n",
       "      <td>72</td>\n",
       "      <td>18</td>\n",
       "      <td>11.80</td>\n",
       "      <td>2</td>\n",
       "      <td>5</td>\n",
       "      <td>...</td>\n",
       "      <td>1</td>\n",
       "      <td>1.0</td>\n",
       "      <td>0</td>\n",
       "      <td>120</td>\n",
       "      <td>80</td>\n",
       "      <td>13</td>\n",
       "      <td>15</td>\n",
       "      <td>18.0</td>\n",
       "      <td>20.0</td>\n",
       "      <td>10.0</td>\n",
       "    </tr>\n",
       "    <tr>\n",
       "      <th>3</th>\n",
       "      <td>37</td>\n",
       "      <td>65.0</td>\n",
       "      <td>148.0</td>\n",
       "      <td>29.7</td>\n",
       "      <td>13</td>\n",
       "      <td>72</td>\n",
       "      <td>20</td>\n",
       "      <td>12.00</td>\n",
       "      <td>2</td>\n",
       "      <td>5</td>\n",
       "      <td>...</td>\n",
       "      <td>0</td>\n",
       "      <td>0.0</td>\n",
       "      <td>0</td>\n",
       "      <td>120</td>\n",
       "      <td>70</td>\n",
       "      <td>2</td>\n",
       "      <td>2</td>\n",
       "      <td>15.0</td>\n",
       "      <td>14.0</td>\n",
       "      <td>7.5</td>\n",
       "    </tr>\n",
       "    <tr>\n",
       "      <th>4</th>\n",
       "      <td>25</td>\n",
       "      <td>52.0</td>\n",
       "      <td>161.0</td>\n",
       "      <td>20.1</td>\n",
       "      <td>11</td>\n",
       "      <td>72</td>\n",
       "      <td>18</td>\n",
       "      <td>10.00</td>\n",
       "      <td>2</td>\n",
       "      <td>5</td>\n",
       "      <td>...</td>\n",
       "      <td>0</td>\n",
       "      <td>0.0</td>\n",
       "      <td>0</td>\n",
       "      <td>120</td>\n",
       "      <td>80</td>\n",
       "      <td>3</td>\n",
       "      <td>4</td>\n",
       "      <td>16.0</td>\n",
       "      <td>14.0</td>\n",
       "      <td>7.0</td>\n",
       "    </tr>\n",
       "  </tbody>\n",
       "</table>\n",
       "<p>5 rows × 39 columns</p>\n",
       "</div>"
      ],
      "text/plain": [
       "    Age (yrs)  Weight (Kg)  Height(Cm)    BMI  Blood Group  Pulse rate(bpm)   \\\n",
       "0          28         44.6        152.0  19.3           15                78   \n",
       "1          36         65.0        161.5  24.9           15                74   \n",
       "2          33         68.8        165.0  25.3           11                72   \n",
       "3          37         65.0        148.0  29.7           13                72   \n",
       "4          25         52.0        161.0  20.1           11                72   \n",
       "\n",
       "   RR (breaths/min)  Hb(g/dl)  Cycle(R/I)  Cycle length(days)  ...  \\\n",
       "0                22     10.48           2                   5  ...   \n",
       "1                20     11.70           2                   5  ...   \n",
       "2                18     11.80           2                   5  ...   \n",
       "3                20     12.00           2                   5  ...   \n",
       "4                18     10.00           2                   5  ...   \n",
       "\n",
       "   Pimples(Y/N)  Fast food (Y/N)  Reg.Exercise(Y/N)  BP _Systolic (mmHg)  \\\n",
       "0             0              1.0                  0                  110   \n",
       "1             0              0.0                  0                  120   \n",
       "2             1              1.0                  0                  120   \n",
       "3             0              0.0                  0                  120   \n",
       "4             0              0.0                  0                  120   \n",
       "\n",
       "   BP _Diastolic (mmHg)  Follicle No. (L)  Follicle No. (R)  \\\n",
       "0                    80                 3                 3   \n",
       "1                    70                 3                 5   \n",
       "2                    80                13                15   \n",
       "3                    70                 2                 2   \n",
       "4                    80                 3                 4   \n",
       "\n",
       "   Avg. F size (L) (mm)  Avg. F size (R) (mm)  Endometrium (mm)  \n",
       "0                  18.0                  18.0               8.5  \n",
       "1                  15.0                  14.0               3.7  \n",
       "2                  18.0                  20.0              10.0  \n",
       "3                  15.0                  14.0               7.5  \n",
       "4                  16.0                  14.0               7.0  \n",
       "\n",
       "[5 rows x 39 columns]"
      ]
     },
     "metadata": {},
     "output_type": "display_data"
    },
    {
     "name": "stdout",
     "output_type": "stream",
     "text": [
      "The features in this dataset have both discrete and continuous values\n"
     ]
    }
   ],
   "source": [
    "display(data_pcos.head())\n",
    "print(\"The features in this dataset have both discrete and continuous values\")"
   ]
  },
  {
   "cell_type": "markdown",
   "id": "8991ad64",
   "metadata": {
    "papermill": {
     "duration": 0.005136,
     "end_time": "2024-04-21T01:38:43.301659",
     "exception": false,
     "start_time": "2024-04-21T01:38:43.296523",
     "status": "completed"
    },
    "tags": []
   },
   "source": [
    "**Checking Accuracy**"
   ]
  },
  {
   "cell_type": "code",
   "execution_count": 7,
   "id": "e8970eed",
   "metadata": {
    "execution": {
     "iopub.execute_input": "2024-04-21T01:38:43.316074Z",
     "iopub.status.busy": "2024-04-21T01:38:43.314862Z",
     "iopub.status.idle": "2024-04-21T01:39:51.844821Z",
     "shell.execute_reply": "2024-04-21T01:39:51.842862Z"
    },
    "papermill": {
     "duration": 68.544195,
     "end_time": "2024-04-21T01:39:51.851413",
     "exception": false,
     "start_time": "2024-04-21T01:38:43.307218",
     "status": "completed"
    },
    "tags": []
   },
   "outputs": [
    {
     "data": {
      "text/html": [
       "<div>\n",
       "<style scoped>\n",
       "    .dataframe tbody tr th:only-of-type {\n",
       "        vertical-align: middle;\n",
       "    }\n",
       "\n",
       "    .dataframe tbody tr th {\n",
       "        vertical-align: top;\n",
       "    }\n",
       "\n",
       "    .dataframe thead th {\n",
       "        text-align: right;\n",
       "    }\n",
       "</style>\n",
       "<table border=\"1\" class=\"dataframe\">\n",
       "  <thead>\n",
       "    <tr style=\"text-align: right;\">\n",
       "      <th></th>\n",
       "      <th>Classifier</th>\n",
       "      <th>Accuracy</th>\n",
       "    </tr>\n",
       "  </thead>\n",
       "  <tbody>\n",
       "    <tr>\n",
       "      <th>0</th>\n",
       "      <td>RandomForest</td>\n",
       "      <td>0.889706</td>\n",
       "    </tr>\n",
       "    <tr>\n",
       "      <th>1</th>\n",
       "      <td>AdaBoost</td>\n",
       "      <td>0.860294</td>\n",
       "    </tr>\n",
       "    <tr>\n",
       "      <th>2</th>\n",
       "      <td>GradientBoosting</td>\n",
       "      <td>0.860294</td>\n",
       "    </tr>\n",
       "    <tr>\n",
       "      <th>3</th>\n",
       "      <td>LinearSVM</td>\n",
       "      <td>0.852941</td>\n",
       "    </tr>\n",
       "    <tr>\n",
       "      <th>4</th>\n",
       "      <td>Logistic</td>\n",
       "      <td>0.838235</td>\n",
       "    </tr>\n",
       "    <tr>\n",
       "      <th>5</th>\n",
       "      <td>DecisionTree</td>\n",
       "      <td>0.838235</td>\n",
       "    </tr>\n",
       "    <tr>\n",
       "      <th>6</th>\n",
       "      <td>RadialSVM</td>\n",
       "      <td>0.698529</td>\n",
       "    </tr>\n",
       "    <tr>\n",
       "      <th>7</th>\n",
       "      <td>KNeighbors</td>\n",
       "      <td>0.676471</td>\n",
       "    </tr>\n",
       "  </tbody>\n",
       "</table>\n",
       "</div>"
      ],
      "text/plain": [
       "         Classifier  Accuracy\n",
       "0      RandomForest  0.889706\n",
       "1          AdaBoost  0.860294\n",
       "2  GradientBoosting  0.860294\n",
       "3         LinearSVM  0.852941\n",
       "4          Logistic  0.838235\n",
       "5      DecisionTree  0.838235\n",
       "6         RadialSVM  0.698529\n",
       "7        KNeighbors  0.676471"
      ]
     },
     "execution_count": 7,
     "metadata": {},
     "output_type": "execute_result"
    }
   ],
   "source": [
    "score = acc_score(data_pcos,label_pcos)\n",
    "score"
   ]
  },
  {
   "cell_type": "code",
   "execution_count": 8,
   "id": "a77d87a3",
   "metadata": {
    "execution": {
     "iopub.execute_input": "2024-04-21T01:39:51.864997Z",
     "iopub.status.busy": "2024-04-21T01:39:51.864557Z",
     "iopub.status.idle": "2024-04-21T01:44:10.215442Z",
     "shell.execute_reply": "2024-04-21T01:44:10.214106Z"
    },
    "papermill": {
     "duration": 258.36719,
     "end_time": "2024-04-21T01:44:10.224531",
     "exception": false,
     "start_time": "2024-04-21T01:39:51.857341",
     "status": "completed"
    },
    "tags": []
   },
   "outputs": [
    {
     "name": "stdout",
     "output_type": "stream",
     "text": [
      "Best score in generation 1 : [0.9117647058823529]\n",
      "Best score in generation 2 : [0.9191176470588235]\n",
      "Best score in generation 3 : [0.9044117647058824]\n",
      "Best score in generation 4 : [0.9117647058823529]\n",
      "Best score in generation 5 : [0.9117647058823529]\n"
     ]
    }
   ],
   "source": [
    "logmodel = RandomForestClassifier(n_estimators=200, random_state=0)\n",
    "X_train,X_test, Y_train, Y_test = split(data_pcos,label_pcos)\n",
    "chromo_df_pcos,score_pcos=generations(data_pcos,label_pcos,size=80,n_feat=data_pcos.shape[1],n_parents=64,mutation_rate=0.20,n_gen=5,\n",
    "                         X_train = X_train,X_test = X_test,Y_train = Y_train,Y_test = Y_test)"
   ]
  },
  {
   "cell_type": "code",
   "execution_count": 9,
   "id": "cb1e7a8b",
   "metadata": {
    "execution": {
     "iopub.execute_input": "2024-04-21T01:44:10.239145Z",
     "iopub.status.busy": "2024-04-21T01:44:10.238729Z",
     "iopub.status.idle": "2024-04-21T01:44:10.535077Z",
     "shell.execute_reply": "2024-04-21T01:44:10.533900Z"
    },
    "papermill": {
     "duration": 0.306841,
     "end_time": "2024-04-21T01:44:10.537936",
     "exception": false,
     "start_time": "2024-04-21T01:44:10.231095",
     "status": "completed"
    },
    "tags": []
   },
   "outputs": [
    {
     "data": {
      "image/png": "[encoded data removed]",
      "text/plain": [
       "<Figure size 600x400 with 1 Axes>"
      ]
     },
     "metadata": {},
     "output_type": "display_data"
    }
   ],
   "source": [
    "plot(score_pcos,0.9,1.0,c = \"limegreen\")"
   ]
  }
 ],
 "metadata": {
  "kaggle": {
   "accelerator": "none",
   "dataSources": [
    {
     "datasetId": 1059580,
     "sourceId": 1782240,
     "sourceType": "datasetVersion"
    }
   ],
   "dockerImageVersionId": 30698,
   "isGpuEnabled": false,
   "isInternetEnabled": true,
   "language": "python",
   "sourceType": "notebook"
  },
  "kernelspec": {
   "display_name": "Python 3",
   "language": "python",
   "name": "python3"
  },
  "language_info": {
   "codemirror_mode": {
    "name": "ipython",
    "version": 3
   },
   "file_extension": ".py",
   "mimetype": "text/x-python",
   "name": "python",
   "nbconvert_exporter": "python",
   "pygments_lexer": "ipython3",
   "version": "3.9.19"
  },
  "papermill": {
   "default_parameters": {},
   "duration": 335.038427,
   "end_time": "2024-04-21T01:44:11.268273",
   "environment_variables": {},
   "exception": null,
   "input_path": "__notebook__.ipynb",
   "output_path": "__notebook__.ipynb",
   "parameters": {},
   "start_time": "2024-04-21T01:38:36.229846",
   "version": "2.5.0"
  }
 },
 "nbformat": 4,
 "nbformat_minor": 5
}
